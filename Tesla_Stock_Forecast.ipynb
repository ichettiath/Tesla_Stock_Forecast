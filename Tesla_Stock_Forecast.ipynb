{
 "cells": [
  {
   "cell_type": "code",
   "execution_count": 3,
   "metadata": {},
   "outputs": [],
   "source": [
    "import pandas\n",
    "import datetime"
   ]
  },
  {
   "cell_type": "code",
   "execution_count": 4,
   "metadata": {},
   "outputs": [
    {
     "data": {
      "text/html": [
       "<div>\n",
       "<style scoped>\n",
       "    .dataframe tbody tr th:only-of-type {\n",
       "        vertical-align: middle;\n",
       "    }\n",
       "\n",
       "    .dataframe tbody tr th {\n",
       "        vertical-align: top;\n",
       "    }\n",
       "\n",
       "    .dataframe thead th {\n",
       "        text-align: right;\n",
       "    }\n",
       "</style>\n",
       "<table border=\"1\" class=\"dataframe\">\n",
       "  <thead>\n",
       "    <tr style=\"text-align: right;\">\n",
       "      <th></th>\n",
       "      <th>Open</th>\n",
       "      <th>High</th>\n",
       "      <th>Low</th>\n",
       "      <th>Close</th>\n",
       "      <th>Adj Close</th>\n",
       "      <th>Volume</th>\n",
       "    </tr>\n",
       "    <tr>\n",
       "      <th>Date</th>\n",
       "      <th></th>\n",
       "      <th></th>\n",
       "      <th></th>\n",
       "      <th></th>\n",
       "      <th></th>\n",
       "      <th></th>\n",
       "    </tr>\n",
       "  </thead>\n",
       "  <tbody>\n",
       "    <tr>\n",
       "      <th>2010-06-29</th>\n",
       "      <td>19.000000</td>\n",
       "      <td>25.000000</td>\n",
       "      <td>17.540001</td>\n",
       "      <td>23.889999</td>\n",
       "      <td>23.889999</td>\n",
       "      <td>18766300</td>\n",
       "    </tr>\n",
       "    <tr>\n",
       "      <th>2010-06-30</th>\n",
       "      <td>25.790001</td>\n",
       "      <td>30.420000</td>\n",
       "      <td>23.299999</td>\n",
       "      <td>23.830000</td>\n",
       "      <td>23.830000</td>\n",
       "      <td>17187100</td>\n",
       "    </tr>\n",
       "    <tr>\n",
       "      <th>2010-07-01</th>\n",
       "      <td>25.000000</td>\n",
       "      <td>25.920000</td>\n",
       "      <td>20.270000</td>\n",
       "      <td>21.959999</td>\n",
       "      <td>21.959999</td>\n",
       "      <td>8218800</td>\n",
       "    </tr>\n",
       "    <tr>\n",
       "      <th>2010-07-02</th>\n",
       "      <td>23.000000</td>\n",
       "      <td>23.100000</td>\n",
       "      <td>18.709999</td>\n",
       "      <td>19.200001</td>\n",
       "      <td>19.200001</td>\n",
       "      <td>5139800</td>\n",
       "    </tr>\n",
       "    <tr>\n",
       "      <th>2010-07-06</th>\n",
       "      <td>20.000000</td>\n",
       "      <td>20.000000</td>\n",
       "      <td>15.830000</td>\n",
       "      <td>16.110001</td>\n",
       "      <td>16.110001</td>\n",
       "      <td>6866900</td>\n",
       "    </tr>\n",
       "    <tr>\n",
       "      <th>...</th>\n",
       "      <td>...</td>\n",
       "      <td>...</td>\n",
       "      <td>...</td>\n",
       "      <td>...</td>\n",
       "      <td>...</td>\n",
       "      <td>...</td>\n",
       "    </tr>\n",
       "    <tr>\n",
       "      <th>2020-01-28</th>\n",
       "      <td>568.489990</td>\n",
       "      <td>576.809998</td>\n",
       "      <td>558.080017</td>\n",
       "      <td>566.900024</td>\n",
       "      <td>566.900024</td>\n",
       "      <td>11788500</td>\n",
       "    </tr>\n",
       "    <tr>\n",
       "      <th>2020-01-29</th>\n",
       "      <td>575.690002</td>\n",
       "      <td>589.799988</td>\n",
       "      <td>567.429993</td>\n",
       "      <td>580.989990</td>\n",
       "      <td>580.989990</td>\n",
       "      <td>17801500</td>\n",
       "    </tr>\n",
       "    <tr>\n",
       "      <th>2020-01-30</th>\n",
       "      <td>632.419983</td>\n",
       "      <td>650.880005</td>\n",
       "      <td>618.000000</td>\n",
       "      <td>640.809998</td>\n",
       "      <td>640.809998</td>\n",
       "      <td>29005700</td>\n",
       "    </tr>\n",
       "    <tr>\n",
       "      <th>2020-01-31</th>\n",
       "      <td>640.000000</td>\n",
       "      <td>653.000000</td>\n",
       "      <td>632.520020</td>\n",
       "      <td>650.570007</td>\n",
       "      <td>650.570007</td>\n",
       "      <td>15719300</td>\n",
       "    </tr>\n",
       "    <tr>\n",
       "      <th>2020-02-03</th>\n",
       "      <td>673.690002</td>\n",
       "      <td>786.140015</td>\n",
       "      <td>673.520020</td>\n",
       "      <td>780.000000</td>\n",
       "      <td>780.000000</td>\n",
       "      <td>47065000</td>\n",
       "    </tr>\n",
       "  </tbody>\n",
       "</table>\n",
       "<p>2416 rows × 6 columns</p>\n",
       "</div>"
      ],
      "text/plain": [
       "                  Open        High         Low       Close   Adj Close  \\\n",
       "Date                                                                     \n",
       "2010-06-29   19.000000   25.000000   17.540001   23.889999   23.889999   \n",
       "2010-06-30   25.790001   30.420000   23.299999   23.830000   23.830000   \n",
       "2010-07-01   25.000000   25.920000   20.270000   21.959999   21.959999   \n",
       "2010-07-02   23.000000   23.100000   18.709999   19.200001   19.200001   \n",
       "2010-07-06   20.000000   20.000000   15.830000   16.110001   16.110001   \n",
       "...                ...         ...         ...         ...         ...   \n",
       "2020-01-28  568.489990  576.809998  558.080017  566.900024  566.900024   \n",
       "2020-01-29  575.690002  589.799988  567.429993  580.989990  580.989990   \n",
       "2020-01-30  632.419983  650.880005  618.000000  640.809998  640.809998   \n",
       "2020-01-31  640.000000  653.000000  632.520020  650.570007  650.570007   \n",
       "2020-02-03  673.690002  786.140015  673.520020  780.000000  780.000000   \n",
       "\n",
       "              Volume  \n",
       "Date                  \n",
       "2010-06-29  18766300  \n",
       "2010-06-30  17187100  \n",
       "2010-07-01   8218800  \n",
       "2010-07-02   5139800  \n",
       "2010-07-06   6866900  \n",
       "...              ...  \n",
       "2020-01-28  11788500  \n",
       "2020-01-29  17801500  \n",
       "2020-01-30  29005700  \n",
       "2020-01-31  15719300  \n",
       "2020-02-03  47065000  \n",
       "\n",
       "[2416 rows x 6 columns]"
      ]
     },
     "execution_count": 4,
     "metadata": {},
     "output_type": "execute_result"
    }
   ],
   "source": [
    "stock_df = pandas.read_csv('TSLA.csv', index_col='Date', parse_dates=True)\n",
    "stock_df"
   ]
  },
  {
   "cell_type": "code",
   "execution_count": 5,
   "metadata": {},
   "outputs": [
    {
     "data": {
      "text/plain": [
       "Date\n",
       "2010-06-29     23.889999\n",
       "2010-06-30     23.830000\n",
       "2010-07-01     21.959999\n",
       "2010-07-02     19.200001\n",
       "2010-07-06     16.110001\n",
       "                 ...    \n",
       "2020-01-28    566.900024\n",
       "2020-01-29    580.989990\n",
       "2020-01-30    640.809998\n",
       "2020-01-31    650.570007\n",
       "2020-02-03    780.000000\n",
       "Name: Close, Length: 2416, dtype: float64"
      ]
     },
     "execution_count": 5,
     "metadata": {},
     "output_type": "execute_result"
    }
   ],
   "source": [
    "closings = stock_df['Close']\n",
    "closings"
   ]
  },
  {
   "cell_type": "code",
   "execution_count": 7,
   "metadata": {},
   "outputs": [
    {
     "data": {
      "text/plain": [
       "186.40365078187054"
      ]
     },
     "execution_count": 7,
     "metadata": {},
     "output_type": "execute_result"
    }
   ],
   "source": [
    "mean = sum(closings) / len(closings)\n",
    "mean"
   ]
  },
  {
   "cell_type": "code",
   "execution_count": 469,
   "metadata": {},
   "outputs": [
    {
     "data": {
      "text/plain": [
       "(2416,)"
      ]
     },
     "execution_count": 469,
     "metadata": {},
     "output_type": "execute_result"
    }
   ],
   "source": [
    "closings.shape"
   ]
  },
  {
   "cell_type": "code",
   "execution_count": 470,
   "metadata": {},
   "outputs": [],
   "source": [
    "import matplotlib.pyplot as plt"
   ]
  },
  {
   "cell_type": "code",
   "execution_count": 471,
   "metadata": {},
   "outputs": [
    {
     "data": {
      "image/png": "[encoded data removed]",
      "text/plain": [
       "<Figure size 864x432 with 1 Axes>"
      ]
     },
     "metadata": {},
     "output_type": "display_data"
    }
   ],
   "source": [
    "plt.style.use('fivethirtyeight')\n",
    "plt.figure(figsize=(12,6))\n",
    "plt.plot(closings)\n",
    "plt.xlabel('Date', fontsize=14)\n",
    "plt.ylabel('Closing Price (USD)', fontsize=14)\n",
    "plt.show()"
   ]
  },
  {
   "cell_type": "code",
   "execution_count": 472,
   "metadata": {},
   "outputs": [],
   "source": [
    "from sklearn.preprocessing import MinMaxScaler\n",
    "import numpy as np"
   ]
  },
  {
   "cell_type": "code",
   "execution_count": 473,
   "metadata": {},
   "outputs": [
    {
     "data": {
      "text/plain": [
       "array([[0.01058623],\n",
       "       [0.01050772],\n",
       "       [0.00806072],\n",
       "       ...,\n",
       "       [0.81786181],\n",
       "       [0.83063335],\n",
       "       [1.        ]])"
      ]
     },
     "execution_count": 473,
     "metadata": {},
     "output_type": "execute_result"
    }
   ],
   "source": [
    "#compresses the closings prices to the range 0 to 1\n",
    "scaler = MinMaxScaler(feature_range = (0,1))\n",
    "\n",
    "scaled_closings = scaler.fit_transform(np.array(closings).reshape(-1,1))\n",
    "scaled_closings"
   ]
  },
  {
   "cell_type": "code",
   "execution_count": 547,
   "metadata": {},
   "outputs": [
    {
     "data": {
      "text/plain": [
       "1812"
      ]
     },
     "execution_count": 547,
     "metadata": {},
     "output_type": "execute_result"
    }
   ],
   "source": [
    "#using 75% of the data to train the model and 25% to test the model\n",
    "train_size = int(len(scaled_closings) * .75)\n",
    "\n",
    "test_size = len(scaled_closings) - train_size\n",
    "train_data = scaled_closings[0:train_size,:]\n",
    "test_data = scaled_closings[train_size:, :]"
   ]
  },
  {
   "cell_type": "code",
   "execution_count": 475,
   "metadata": {},
   "outputs": [],
   "source": [
    "def create_data(data, time_interval):\n",
    "    X_data = []\n",
    "    y_data = []\n",
    "    for day in range(len(data)-time_interval-1):\n",
    "        interval = data[day : (day + time_interval), 0]\n",
    "        output_day = data[day + time_interval]\n",
    "        \n",
    "        #X_data holds 10 days and y_data holds the 11th day of each interval\n",
    "        X_data.append(interval)\n",
    "        y_data.append(output_day)\n",
    "        \n",
    "    return numpy.array(X_data), numpy.array(y_data)"
   ]
  },
  {
   "cell_type": "code",
   "execution_count": 549,
   "metadata": {},
   "outputs": [
    {
     "data": {
      "text/plain": [
       "1812"
      ]
     },
     "execution_count": 549,
     "metadata": {},
     "output_type": "execute_result"
    }
   ],
   "source": [
    "#using a 10 day moving average\n",
    "time_interval = 10\n",
    "\n",
    "X_train, y_train = create_data(train_data, time_interval)\n",
    "X_test, y_test = create_data(test_data, time_interval)"
   ]
  },
  {
   "cell_type": "code",
   "execution_count": 477,
   "metadata": {},
   "outputs": [],
   "source": [
    "#reshapes the arrays to fit a numpy array\n",
    "X_train = X_train.reshape(X_train.shape[0], X_train.shape[1], 1)\n",
    "X_test = X_test.reshape(X_test.shape[0], X_test.shape[1], 1)"
   ]
  },
  {
   "cell_type": "code",
   "execution_count": 478,
   "metadata": {},
   "outputs": [],
   "source": [
    "from tensorflow.keras.models import Sequential\n",
    "from tensorflow.keras.layers import Dense, LSTM"
   ]
  },
  {
   "cell_type": "code",
   "execution_count": 479,
   "metadata": {},
   "outputs": [],
   "source": [
    "model = Sequential()\n",
    "model.add(LSTM(64, return_sequences = True, input_shape = (time_interval, 1)))\n",
    "model.add(LSTM(64, return_sequences = True))\n",
    "model.add(LSTM(64))\n",
    "model.add(Dense(1))\n",
    "model.compile(loss = 'mean_squared_error', optimizer = 'adam')"
   ]
  },
  {
   "cell_type": "code",
   "execution_count": 480,
   "metadata": {},
   "outputs": [
    {
     "name": "stdout",
     "output_type": "stream",
     "text": [
      "Model: \"sequential_12\"\n",
      "_________________________________________________________________\n",
      "Layer (type)                 Output Shape              Param #   \n",
      "=================================================================\n",
      "lstm_36 (LSTM)               (None, 10, 64)            16896     \n",
      "_________________________________________________________________\n",
      "lstm_37 (LSTM)               (None, 10, 64)            33024     \n",
      "_________________________________________________________________\n",
      "lstm_38 (LSTM)               (None, 64)                33024     \n",
      "_________________________________________________________________\n",
      "dense_12 (Dense)             (None, 1)                 65        \n",
      "=================================================================\n",
      "Total params: 83,009\n",
      "Trainable params: 83,009\n",
      "Non-trainable params: 0\n",
      "_________________________________________________________________\n"
     ]
    }
   ],
   "source": [
    "model.summary()"
   ]
  },
  {
   "cell_type": "code",
   "execution_count": 481,
   "metadata": {},
   "outputs": [
    {
     "name": "stdout",
     "output_type": "stream",
     "text": [
      "29/29 [==============================] - 2s 64ms/step - loss: 0.0098 - val_loss: 0.0012\n"
     ]
    },
    {
     "data": {
      "text/plain": [
       "<tensorflow.python.keras.callbacks.History at 0x7fe334c12310>"
      ]
     },
     "execution_count": 481,
     "metadata": {},
     "output_type": "execute_result"
    }
   ],
   "source": [
    "model.fit(X_train, y_train, validation_data = (X_test, y_test), epochs = 1, batch_size = 64)"
   ]
  },
  {
   "cell_type": "code",
   "execution_count": 482,
   "metadata": {},
   "outputs": [],
   "source": [
    "predict_train = model.predict(X_train)\n",
    "predict_test = model.predict(X_test)"
   ]
  },
  {
   "cell_type": "code",
   "execution_count": 483,
   "metadata": {},
   "outputs": [],
   "source": [
    "#convert the numbers from the compressed values back to regular prices\n",
    "predict_train = scaler.inverse_transform(predict_train)\n",
    "predict_test = scaler.inverse_transform(predict_test)\n",
    "y_test = scaler.inverse_transform(y_test)\n",
    "y_train = scaler.inverse_transform(y_train)"
   ]
  },
  {
   "cell_type": "code",
   "execution_count": 484,
   "metadata": {},
   "outputs": [],
   "source": [
    "predict_test_list = []\n",
    "y_test_list = []\n",
    "predict_train_list = []\n",
    "y_train_list = []\n",
    "\n",
    "#creates arrays for just the values in each\n",
    "for i in predict_test:\n",
    "    predict_test_list.append(i[0])\n",
    "for i in y_test:\n",
    "    y_test_list.append(i[0])\n",
    "for i in predict_train:\n",
    "    predict_train_list.append(i[0])\n",
    "for i in y_train:\n",
    "    y_train_list.append(i[0])"
   ]
  },
  {
   "cell_type": "code",
   "execution_count": 485,
   "metadata": {},
   "outputs": [],
   "source": [
    "from sklearn.metrics import mean_squared_error\n",
    "import math"
   ]
  },
  {
   "cell_type": "code",
   "execution_count": 486,
   "metadata": {},
   "outputs": [
    {
     "data": {
      "text/plain": [
       "12.658718660988649"
      ]
     },
     "execution_count": 486,
     "metadata": {},
     "output_type": "execute_result"
    }
   ],
   "source": [
    "#calculates the error in the training set\n",
    "math.sqrt(mean_squared_error(y_train_list, predict_train_list))"
   ]
  },
  {
   "cell_type": "code",
   "execution_count": 499,
   "metadata": {},
   "outputs": [
    {
     "data": {
      "text/plain": [
       "26.605868717381156"
      ]
     },
     "execution_count": 499,
     "metadata": {},
     "output_type": "execute_result"
    }
   ],
   "source": [
    "#calculates the error in the test set\n",
    "math.sqrt(mean_squared_error(y_test_list, predict_test_list))"
   ]
  },
  {
   "cell_type": "code",
   "execution_count": 550,
   "metadata": {},
   "outputs": [],
   "source": [
    "stock_df2 = pandas.read_csv('TSLA.csv')\n",
    "closings2 = stock_df2['Close']"
   ]
  },
  {
   "cell_type": "code",
   "execution_count": 569,
   "metadata": {},
   "outputs": [
    {
     "data": {
      "image/png": "[encoded data removed]",
      "text/plain": [
       "<Figure size 864x432 with 1 Axes>"
      ]
     },
     "metadata": {},
     "output_type": "display_data"
    }
   ],
   "source": [
    "trainPlot = numpy.empty_like(closings)\n",
    "trainPlot[:] = np.nan\n",
    "trainPlot[: len(predict_train)] = predict_train_list\n",
    "\n",
    "testPlot = numpy.empty_like(closings)\n",
    "testPlot[:] = numpy.nan\n",
    "testPlot[len(predict_train) + (time_interval * 2) + 1 : len(closings) - 1] = predict_test_list\n",
    "\n",
    "plt.style.use('fivethirtyeight')\n",
    "plt.figure(figsize=(12,6))\n",
    "plt.plot(closings2)\n",
    "plt.plot(trainPlot)\n",
    "plt.plot(testPlot)\n",
    "plt.xlabel('Days', fontsize=14)\n",
    "plt.ylabel('Closing Price (USD)', fontsize=14)\n",
    "plt.show()\n",
    "plt.show()"
   ]
  },
  {
   "cell_type": "code",
   "execution_count": 629,
   "metadata": {},
   "outputs": [],
   "source": [
    "X_input = test_data[len(test_data) - time_interval :].reshape(1,-1)"
   ]
  },
  {
   "cell_type": "code",
   "execution_count": 630,
   "metadata": {},
   "outputs": [
    {
     "data": {
      "text/plain": [
       "[0.6953677204920178,\n",
       " 0.7246270583616855,\n",
       " 0.7280816697199686,\n",
       " 0.7184245053650876,\n",
       " 0.7095263281863387,\n",
       " 0.7211463281863386,\n",
       " 0.7395838654802408,\n",
       " 0.8178618136613452,\n",
       " 0.8306333512169589,\n",
       " 1.0]"
      ]
     },
     "execution_count": 630,
     "metadata": {},
     "output_type": "execute_result"
    }
   ],
   "source": [
    "temp_input = list(X_input)\n",
    "temp_input = temp_input[0].tolist()\n",
    "temp_input"
   ]
  },
  {
   "cell_type": "code",
   "execution_count": 631,
   "metadata": {},
   "outputs": [
    {
     "name": "stdout",
     "output_type": "stream",
     "text": [
      "[[0.7974927]]\n",
      "11\n",
      "1 day input [0.72462706 0.72808167 0.71842451 0.70952633 0.72114633 0.73958387\n",
      " 0.81786181 0.83063335 1.         0.79749268]\n",
      "1 day output [[0.8157411]]\n",
      "2 day input [0.72808167 0.71842451 0.70952633 0.72114633 0.73958387 0.81786181\n",
      " 0.83063335 1.         0.79749268 0.81574112]\n",
      "2 day output [[0.8318747]]\n",
      "3 day input [0.71842451 0.70952633 0.72114633 0.73958387 0.81786181 0.83063335\n",
      " 1.         0.79749268 0.81574112 0.83187473]\n",
      "3 day output [[0.84906644]]\n",
      "4 day input [0.70952633 0.72114633 0.73958387 0.81786181 0.83063335 1.\n",
      " 0.79749268 0.81574112 0.83187473 0.84906644]\n",
      "4 day output [[0.86874706]]\n",
      "5 day input [0.72114633 0.73958387 0.81786181 0.83063335 1.         0.79749268\n",
      " 0.81574112 0.83187473 0.84906644 0.86874706]\n",
      "5 day output [[0.89045644]]\n",
      "6 day input [0.73958387 0.81786181 0.83063335 1.         0.79749268 0.81574112\n",
      " 0.83187473 0.84906644 0.86874706 0.89045644]\n",
      "6 day output [[0.911071]]\n",
      "7 day input [0.81786181 0.83063335 1.         0.79749268 0.81574112 0.83187473\n",
      " 0.84906644 0.86874706 0.89045644 0.911071  ]\n",
      "7 day output [[0.9297708]]\n",
      "8 day input [0.83063335 1.         0.79749268 0.81574112 0.83187473 0.84906644\n",
      " 0.86874706 0.89045644 0.911071   0.92977083]\n",
      "8 day output [[0.93820256]]\n",
      "9 day input [1.         0.79749268 0.81574112 0.83187473 0.84906644 0.86874706\n",
      " 0.89045644 0.911071   0.92977083 0.93820256]\n",
      "9 day output [[0.9466061]]\n",
      "10 day input [0.79749268 0.81574112 0.83187473 0.84906644 0.86874706 0.89045644\n",
      " 0.911071   0.92977083 0.93820256 0.9466061 ]\n",
      "10 day output [[0.9325822]]\n",
      "11 day input [0.81574112 0.83187473 0.84906644 0.86874706 0.89045644 0.911071\n",
      " 0.92977083 0.93820256 0.9466061  0.9325822 ]\n",
      "11 day output [[0.9510386]]\n",
      "12 day input [0.83187473 0.84906644 0.86874706 0.89045644 0.911071   0.92977083\n",
      " 0.93820256 0.9466061  0.9325822  0.9510386 ]\n",
      "12 day output [[0.96822345]]\n",
      "13 day input [0.84906644 0.86874706 0.89045644 0.911071   0.92977083 0.93820256\n",
      " 0.9466061  0.9325822  0.9510386  0.96822345]\n",
      "13 day output [[0.98437065]]\n",
      "14 day input [0.86874706 0.89045644 0.911071   0.92977083 0.93820256 0.9466061\n",
      " 0.9325822  0.9510386  0.96822345 0.98437065]\n",
      "14 day output [[0.99935937]]\n",
      "15 day input [0.89045644 0.911071   0.92977083 0.93820256 0.9466061  0.9325822\n",
      " 0.9510386  0.96822345 0.98437065 0.99935937]\n",
      "15 day output [[1.0129349]]\n",
      "16 day input [0.911071   0.92977083 0.93820256 0.9466061  0.9325822  0.9510386\n",
      " 0.96822345 0.98437065 0.99935937 1.01293492]\n",
      "16 day output [[1.0249517]]\n",
      "17 day input [0.92977083 0.93820256 0.9466061  0.9325822  0.9510386  0.96822345\n",
      " 0.98437065 0.99935937 1.01293492 1.0249517 ]\n",
      "17 day output [[1.0357184]]\n",
      "18 day input [0.93820256 0.9466061  0.9325822  0.9510386  0.96822345 0.98437065\n",
      " 0.99935937 1.01293492 1.0249517  1.03571844]\n",
      "18 day output [[1.0456299]]\n",
      "19 day input [0.9466061  0.9325822  0.9510386  0.96822345 0.98437065 0.99935937\n",
      " 1.01293492 1.0249517  1.03571844 1.04562986]\n",
      "19 day output [[1.0562055]]\n",
      "20 day input [0.9325822  0.9510386  0.96822345 0.98437065 0.99935937 1.01293492\n",
      " 1.0249517  1.03571844 1.04562986 1.05620551]\n",
      "20 day output [[1.0674125]]\n",
      "21 day input [0.9510386  0.96822345 0.98437065 0.99935937 1.01293492 1.0249517\n",
      " 1.03571844 1.04562986 1.05620551 1.0674125 ]\n",
      "21 day output [[1.0823092]]\n",
      "22 day input [0.96822345 0.98437065 0.99935937 1.01293492 1.0249517  1.03571844\n",
      " 1.04562986 1.05620551 1.0674125  1.08230925]\n",
      "22 day output [[1.0961343]]\n",
      "23 day input [0.98437065 0.99935937 1.01293492 1.0249517  1.03571844 1.04562986\n",
      " 1.05620551 1.0674125  1.08230925 1.09613431]\n",
      "23 day output [[1.1091146]]\n",
      "24 day input [0.99935937 1.01293492 1.0249517  1.03571844 1.04562986 1.05620551\n",
      " 1.0674125  1.08230925 1.09613431 1.10911465]\n",
      "24 day output [[1.121451]]\n",
      "25 day input [1.01293492 1.0249517  1.03571844 1.04562986 1.05620551 1.0674125\n",
      " 1.08230925 1.09613431 1.10911465 1.12145102]\n",
      "25 day output [[1.1333545]]\n",
      "26 day input [1.0249517  1.03571844 1.04562986 1.05620551 1.0674125  1.08230925\n",
      " 1.09613431 1.10911465 1.12145102 1.13335454]\n",
      "26 day output [[1.1450527]]\n",
      "27 day input [1.03571844 1.04562986 1.05620551 1.0674125  1.08230925 1.09613431\n",
      " 1.10911465 1.12145102 1.13335454 1.14505267]\n",
      "27 day output [[1.1567721]]\n",
      "28 day input [1.04562986 1.05620551 1.0674125  1.08230925 1.09613431 1.10911465\n",
      " 1.12145102 1.13335454 1.14505267 1.15677214]\n",
      "28 day output [[1.1686732]]\n",
      "29 day input [1.05620551 1.0674125  1.08230925 1.09613431 1.10911465 1.12145102\n",
      " 1.13335454 1.14505267 1.15677214 1.16867316]\n",
      "29 day output [[1.1808466]]\n",
      "[[0.7974926829338074], [0.8157411217689514], [0.8318747282028198], [0.849066436290741], [0.8687470555305481], [0.8904564380645752], [0.9110710024833679], [0.929770827293396], [0.9382025599479675], [0.9466060996055603], [0.9325821995735168], [0.9510385990142822], [0.9682234525680542], [0.9843706488609314], [0.9993593692779541], [1.012934923171997], [1.024951696395874], [1.0357184410095215], [1.045629858970642], [1.0562055110931396], [1.0674124956130981], [1.0823092460632324], [1.0961343050003052], [1.109114646911621], [1.1214510202407837], [1.1333545446395874], [1.1450526714324951], [1.1567721366882324], [1.1686731576919556], [1.1808465719223022]]\n"
     ]
    }
   ],
   "source": [
    "from numpy import array\n",
    "i = 0\n",
    "output = []\n",
    "while (i < 30):\n",
    "    if (len(temp_input) > 10):\n",
    "        X_input = np.array(temp_input[1:])\n",
    "        print('{} day input {}'.format(i, X_input))\n",
    "        X_input.reshape(-1,1)\n",
    "        X_input = X_input.reshape(1, time_interval, 1)\n",
    "        prediction = model.predict(X_input, verbose=0)\n",
    "        print('{} day output {}'.format(i, prediction))\n",
    "        temp_input.extend(prediction[0].tolist())\n",
    "        temp_input = temp_input[1:]\n",
    "        output.extend(prediction.tolist())\n",
    "        i = i + 1\n",
    "    else:\n",
    "        X_input = X_input.reshape(1, time_interval, 1)\n",
    "        prediction = model.predict(X_input, verbose = 0)\n",
    "        print(prediction)\n",
    "        temp_input.extend(prediction[0].tolist())\n",
    "        print(len(temp_input))\n",
    "        output.extend(prediction.tolist())\n",
    "        i = i + 1\n",
    "\n",
    "print(output)\n"
   ]
  },
  {
   "cell_type": "code",
   "execution_count": 633,
   "metadata": {},
   "outputs": [],
   "source": [
    "day_new = np.arange(1, 11)\n",
    "day_pred = np.arange(11, 41)"
   ]
  },
  {
   "cell_type": "code",
   "execution_count": 644,
   "metadata": {},
   "outputs": [
    {
     "data": {
      "image/png": "[encoded data removed]",
      "text/plain": [
       "<Figure size 864x432 with 1 Axes>"
      ]
     },
     "metadata": {},
     "output_type": "display_data"
    }
   ],
   "source": [
    "plt.style.use('fivethirtyeight')\n",
    "plt.figure(figsize=(12,6))\n",
    "plt.plot(day_new, closings[len(closings) - time_interval :])\n",
    "plt.plot(day_pred, scaler.inverse_transform(output))\n",
    "plt.xlabel('Days', fontsize=14)\n",
    "plt.ylabel('Closing Price (USD)', fontsize=14)\n",
    "plt.show()\n",
    "plt.show()"
   ]
  }
 ],
 "metadata": {
  "kernelspec": {
   "display_name": "Python 3",
   "language": "python",
   "name": "python3"
  },
  "language_info": {
   "codemirror_mode": {
    "name": "ipython",
    "version": 3
   },
   "file_extension": ".py",
   "mimetype": "text/x-python",
   "name": "python",
   "nbconvert_exporter": "python",
   "pygments_lexer": "ipython3",
   "version": "3.8.0"
  }
 },
 "nbformat": 4,
 "nbformat_minor": 4
}
